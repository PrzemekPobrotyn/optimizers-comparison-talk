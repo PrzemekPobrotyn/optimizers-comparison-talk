{
 "cells": [
  {
   "cell_type": "code",
   "execution_count": 1,
   "metadata": {
    "collapsed": false
   },
   "outputs": [
    {
     "name": "stderr",
     "output_type": "stream",
     "text": [
      "Using TensorFlow backend.\n"
     ]
    }
   ],
   "source": [
    "import numpy as np\n",
    "import matplotlib.pyplot as plt\n",
    "%matplotlib inline\n",
    "import keras\n",
    "from keras.models import Sequential\n",
    "from keras.layers import Dense, Dropout, Activation, Flatten\n",
    "from keras.layers import Conv2D, MaxPooling2D\n",
    "from keras.utils import np_utils\n",
    "import tensorflow as tf\n",
    "from keras import backend as K\n",
    "\n",
    "np.random.seed(42)\n",
    "tf.set_random_seed(1234)\n",
    "\n",
    "sess = tf.Session(graph=tf.get_default_graph())\n",
    "K.set_session(sess)"
   ]
  },
  {
   "cell_type": "code",
   "execution_count": 2,
   "metadata": {
    "collapsed": false
   },
   "outputs": [
    {
     "name": "stdout",
     "output_type": "stream",
     "text": [
      "Downloading data from https://s3.amazonaws.com/img-datasets/mnist.npz\n",
      "11395072/11490434 [============================>.] - ETA: 0s"
     ]
    }
   ],
   "source": [
    "from keras.datasets import mnist\n",
    "\n",
    "(x_train, y_train), (x_test, y_test) = mnist.load_data()"
   ]
  },
  {
   "cell_type": "code",
   "execution_count": 3,
   "metadata": {
    "collapsed": true
   },
   "outputs": [],
   "source": [
    "# # pick randomly 6000 images\n",
    "# indices = np.random.randint(0, x_train.shape[0], 6000)\n",
    "\n",
    "# x_train, y_train = x_train[indices], y_train[indices]"
   ]
  },
  {
   "cell_type": "code",
   "execution_count": 4,
   "metadata": {
    "collapsed": false
   },
   "outputs": [
    {
     "name": "stdout",
     "output_type": "stream",
     "text": [
      "Wymiary obrazka to (28, 28)\n"
     ]
    }
   ],
   "source": [
    "print('Wymiary obrazka to {}'.format(x_train[0].shape))"
   ]
  },
  {
   "cell_type": "code",
   "execution_count": 5,
   "metadata": {
    "collapsed": false
   },
   "outputs": [
    {
     "name": "stdout",
     "output_type": "stream",
     "text": [
      "Liczba obrazków: 60000\n"
     ]
    }
   ],
   "source": [
    "print('Liczba obrazków: {}'.format(x_train.shape[0]))"
   ]
  },
  {
   "cell_type": "code",
   "execution_count": 7,
   "metadata": {
    "collapsed": true
   },
   "outputs": [],
   "source": [
    "# normalize\n",
    "\n",
    "x_train, x_test = x_train/255, x_test/255\n",
    "x_train = x_train.reshape(x_train.shape[0], 28, 28, 1)\n",
    "x_test = x_test.reshape(x_test.shape[0], 28, 28, 1)"
   ]
  },
  {
   "cell_type": "code",
   "execution_count": 8,
   "metadata": {
    "collapsed": true
   },
   "outputs": [],
   "source": [
    "y_train = np_utils.to_categorical(y_train, 10)\n",
    "y_test = np_utils.to_categorical(y_test, 10)"
   ]
  },
  {
   "cell_type": "code",
   "execution_count": 9,
   "metadata": {
    "collapsed": false
   },
   "outputs": [
    {
     "name": "stdout",
     "output_type": "stream",
     "text": [
      "Przykładowy obrazek\n"
     ]
    },
    {
     "data": {
      "image/png": "[encoded data removed]",
      "text/plain": [
       "<matplotlib.figure.Figure at 0x7f1b3c18a0f0>"
      ]
     },
     "metadata": {},
     "output_type": "display_data"
    }
   ],
   "source": [
    "print('Przykładowy obrazek')\n",
    "plt.imshow(x_train[10,:,:,0], cmap = 'Greys');"
   ]
  },
  {
   "cell_type": "code",
   "execution_count": 10,
   "metadata": {
    "collapsed": true
   },
   "outputs": [],
   "source": [
    "# define a model\n",
    "\n",
    "def make_model():\n",
    "    \n",
    "    model = Sequential()\n",
    "    model.add(Conv2D(32, 3, activation='relu', padding='same',input_shape=(28,28,1)))\n",
    "    model.add(MaxPooling2D(pool_size=(2,2)))\n",
    "    model.add(Conv2D(64, 3, activation='relu', padding='same'))\n",
    "    model.add(MaxPooling2D(pool_size=(2,2)))\n",
    "    model.add(Flatten())\n",
    "    model.add(Dense(128, activation='tanh'))\n",
    "    model.add(Dropout(0.5))\n",
    "    model.add(Dense(10, activation='softmax'))\n",
    "    return model"
   ]
  },
  {
   "cell_type": "code",
   "execution_count": 11,
   "metadata": {
    "collapsed": false
   },
   "outputs": [
    {
     "name": "stdout",
     "output_type": "stream",
     "text": [
      "_________________________________________________________________\n",
      "Layer (type)                 Output Shape              Param #   \n",
      "=================================================================\n",
      "conv2d_1 (Conv2D)            (None, 28, 28, 32)        320       \n",
      "_________________________________________________________________\n",
      "max_pooling2d_1 (MaxPooling2 (None, 14, 14, 32)        0         \n",
      "_________________________________________________________________\n",
      "conv2d_2 (Conv2D)            (None, 14, 14, 64)        18496     \n",
      "_________________________________________________________________\n",
      "max_pooling2d_2 (MaxPooling2 (None, 7, 7, 64)          0         \n",
      "_________________________________________________________________\n",
      "flatten_1 (Flatten)          (None, 3136)              0         \n",
      "_________________________________________________________________\n",
      "dense_1 (Dense)              (None, 128)               401536    \n",
      "_________________________________________________________________\n",
      "dropout_1 (Dropout)          (None, 128)               0         \n",
      "_________________________________________________________________\n",
      "dense_2 (Dense)              (None, 10)                1290      \n",
      "=================================================================\n",
      "Total params: 421,642\n",
      "Trainable params: 421,642\n",
      "Non-trainable params: 0\n",
      "_________________________________________________________________\n"
     ]
    }
   ],
   "source": [
    "make_model().summary()"
   ]
  },
  {
   "cell_type": "code",
   "execution_count": 12,
   "metadata": {
    "collapsed": true
   },
   "outputs": [],
   "source": [
    "# all optimizers will their default learning rates\n",
    "\n",
    "sgd_with_momentum = keras.optimizers.SGD(lr=0.01, decay=1e-6, momentum=0.9, nesterov=False)\n",
    "sgd_nestorov = keras.optimizers.SGD(lr=0.01, decay=1e-6, momentum=0.9, nesterov=True)\n",
    "sgd = keras.optimizers.SGD(lr=0.01)\n",
    "adagrad = keras.optimizers.adagrad()\n",
    "optimizers = {'adam' : 'adam', 'sgd': sgd, 'momentum': sgd_with_momentum, 'nestorov' : sgd_nestorov, \n",
    "              'rmsprop' : 'rmsprop', 'adagrad' : adagrad}"
   ]
  },
  {
   "cell_type": "code",
   "execution_count": 13,
   "metadata": {
    "collapsed": false
   },
   "outputs": [
    {
     "name": "stdout",
     "output_type": "stream",
     "text": [
      "Epoch 1/10\n",
      "60000/60000 [==============================] - 51s - loss: 0.1212 - categorical_accuracy: 0.9634    \n",
      "Epoch 2/10\n",
      "60000/60000 [==============================] - 11s - loss: 0.0541 - categorical_accuracy: 0.9840    \n",
      "Epoch 3/10\n",
      "60000/60000 [==============================] - 11s - loss: 0.0425 - categorical_accuracy: 0.9874    \n",
      "Epoch 4/10\n",
      "60000/60000 [==============================] - 11s - loss: 0.0362 - categorical_accuracy: 0.9888    \n",
      "Epoch 5/10\n",
      "60000/60000 [==============================] - 11s - loss: 0.0315 - categorical_accuracy: 0.9905    \n",
      "Epoch 6/10\n",
      "60000/60000 [==============================] - 11s - loss: 0.0280 - categorical_accuracy: 0.9914    \n",
      "Epoch 7/10\n",
      "60000/60000 [==============================] - 11s - loss: 0.0259 - categorical_accuracy: 0.9920    \n",
      "Epoch 8/10\n",
      "60000/60000 [==============================] - 11s - loss: 0.0231 - categorical_accuracy: 0.9932    \n",
      "Epoch 9/10\n",
      "60000/60000 [==============================] - 11s - loss: 0.0219 - categorical_accuracy: 0.9934    \n",
      "Epoch 10/10\n",
      "60000/60000 [==============================] - 11s - loss: 0.0208 - categorical_accuracy: 0.9937    \n",
      " 9664/10000 [===========================>..] - ETA: 0sEpoch 1/10\n",
      "60000/60000 [==============================] - 11s - loss: 0.2069 - categorical_accuracy: 0.9352    \n",
      "Epoch 2/10\n",
      "60000/60000 [==============================] - 11s - loss: 0.0708 - categorical_accuracy: 0.9783    \n",
      "Epoch 3/10\n",
      "60000/60000 [==============================] - 11s - loss: 0.0554 - categorical_accuracy: 0.9830    \n",
      "Epoch 4/10\n",
      "60000/60000 [==============================] - 11s - loss: 0.0454 - categorical_accuracy: 0.9861    \n",
      "Epoch 5/10\n",
      "60000/60000 [==============================] - 11s - loss: 0.0379 - categorical_accuracy: 0.9882    \n",
      "Epoch 6/10\n",
      "60000/60000 [==============================] - 11s - loss: 0.0355 - categorical_accuracy: 0.9886    \n",
      "Epoch 7/10\n",
      "60000/60000 [==============================] - 11s - loss: 0.0303 - categorical_accuracy: 0.9903    \n",
      "Epoch 8/10\n",
      "60000/60000 [==============================] - 11s - loss: 0.0266 - categorical_accuracy: 0.9916    \n",
      "Epoch 9/10\n",
      "60000/60000 [==============================] - 11s - loss: 0.0240 - categorical_accuracy: 0.9921    \n",
      "Epoch 10/10\n",
      "60000/60000 [==============================] - 11s - loss: 0.0211 - categorical_accuracy: 0.9933    \n",
      " 9856/10000 [============================>.] - ETA: 0sEpoch 1/10\n",
      "60000/60000 [==============================] - 13s - loss: 0.1431 - categorical_accuracy: 0.9563    \n",
      "Epoch 2/10\n",
      "60000/60000 [==============================] - 13s - loss: 0.0547 - categorical_accuracy: 0.9831    \n",
      "Epoch 3/10\n",
      "60000/60000 [==============================] - 13s - loss: 0.0402 - categorical_accuracy: 0.9875    \n",
      "Epoch 4/10\n",
      "60000/60000 [==============================] - 13s - loss: 0.0328 - categorical_accuracy: 0.9896    \n",
      "Epoch 5/10\n",
      "60000/60000 [==============================] - 13s - loss: 0.0276 - categorical_accuracy: 0.9914    \n",
      "Epoch 6/10\n",
      "60000/60000 [==============================] - 13s - loss: 0.0240 - categorical_accuracy: 0.9923    \n",
      "Epoch 7/10\n",
      "60000/60000 [==============================] - 13s - loss: 0.0181 - categorical_accuracy: 0.9943    \n",
      "Epoch 8/10\n",
      "60000/60000 [==============================] - 13s - loss: 0.0163 - categorical_accuracy: 0.9948    \n",
      "Epoch 9/10\n",
      "60000/60000 [==============================] - 13s - loss: 0.0162 - categorical_accuracy: 0.9947    \n",
      "Epoch 10/10\n",
      "60000/60000 [==============================] - 13s - loss: 0.0137 - categorical_accuracy: 0.9955    \n",
      " 9824/10000 [============================>.] - ETA: 0sEpoch 1/10\n",
      "60000/60000 [==============================] - 11s - loss: 0.5419 - categorical_accuracy: 0.8371    \n",
      "Epoch 2/10\n",
      "60000/60000 [==============================] - 11s - loss: 0.1800 - categorical_accuracy: 0.9467    \n",
      "Epoch 3/10\n",
      "60000/60000 [==============================] - 11s - loss: 0.1249 - categorical_accuracy: 0.9626    \n",
      "Epoch 4/10\n",
      "60000/60000 [==============================] - 11s - loss: 0.1018 - categorical_accuracy: 0.9692    \n",
      "Epoch 5/10\n",
      "60000/60000 [==============================] - 11s - loss: 0.0901 - categorical_accuracy: 0.9724    \n",
      "Epoch 6/10\n",
      "60000/60000 [==============================] - 11s - loss: 0.0797 - categorical_accuracy: 0.9760    \n",
      "Epoch 7/10\n",
      "60000/60000 [==============================] - 11s - loss: 0.0730 - categorical_accuracy: 0.9783    \n",
      "Epoch 8/10\n",
      "60000/60000 [==============================] - 11s - loss: 0.0673 - categorical_accuracy: 0.9798    \n",
      "Epoch 9/10\n",
      "60000/60000 [==============================] - 11s - loss: 0.0623 - categorical_accuracy: 0.9811    \n",
      "Epoch 10/10\n",
      "60000/60000 [==============================] - 11s - loss: 0.0608 - categorical_accuracy: 0.9817    \n",
      " 9760/10000 [============================>.] - ETA: 0sEpoch 1/10\n",
      "60000/60000 [==============================] - 11s - loss: 0.1985 - categorical_accuracy: 0.9378    \n",
      "Epoch 2/10\n",
      "60000/60000 [==============================] - 11s - loss: 0.0729 - categorical_accuracy: 0.9779    \n",
      "Epoch 3/10\n",
      "60000/60000 [==============================] - 11s - loss: 0.0552 - categorical_accuracy: 0.9833    \n",
      "Epoch 4/10\n",
      "60000/60000 [==============================] - 11s - loss: 0.0450 - categorical_accuracy: 0.9860    \n",
      "Epoch 5/10\n",
      "60000/60000 [==============================] - 11s - loss: 0.0393 - categorical_accuracy: 0.9880    \n",
      "Epoch 6/10\n",
      "60000/60000 [==============================] - 11s - loss: 0.0344 - categorical_accuracy: 0.9890    \n",
      "Epoch 7/10\n",
      "60000/60000 [==============================] - 11s - loss: 0.0300 - categorical_accuracy: 0.9908    \n",
      "Epoch 8/10\n",
      "60000/60000 [==============================] - 11s - loss: 0.0274 - categorical_accuracy: 0.9911    \n",
      "Epoch 9/10\n",
      "60000/60000 [==============================] - 11s - loss: 0.0236 - categorical_accuracy: 0.9929    \n",
      "Epoch 10/10\n",
      "60000/60000 [==============================] - 11s - loss: 0.0219 - categorical_accuracy: 0.9930    \n",
      " 9760/10000 [============================>.] - ETA: 0sEpoch 1/10\n",
      "60000/60000 [==============================] - 12s - loss: 0.1284 - categorical_accuracy: 0.9607    \n",
      "Epoch 2/10\n",
      "60000/60000 [==============================] - 12s - loss: 0.0535 - categorical_accuracy: 0.9842    \n",
      "Epoch 3/10\n",
      "60000/60000 [==============================] - 12s - loss: 0.0417 - categorical_accuracy: 0.9880    \n",
      "Epoch 4/10\n",
      "60000/60000 [==============================] - 12s - loss: 0.0367 - categorical_accuracy: 0.9893    \n",
      "Epoch 5/10\n",
      "60000/60000 [==============================] - 12s - loss: 0.0316 - categorical_accuracy: 0.9913    \n",
      "Epoch 6/10\n",
      "60000/60000 [==============================] - 12s - loss: 0.0301 - categorical_accuracy: 0.9916    \n",
      "Epoch 7/10\n",
      "60000/60000 [==============================] - 12s - loss: 0.0276 - categorical_accuracy: 0.9929    \n",
      "Epoch 8/10\n",
      "60000/60000 [==============================] - 12s - loss: 0.0246 - categorical_accuracy: 0.9932    \n",
      "Epoch 9/10\n",
      "60000/60000 [==============================] - 12s - loss: 0.0231 - categorical_accuracy: 0.9935    \n",
      "Epoch 10/10\n",
      "60000/60000 [==============================] - 12s - loss: 0.0217 - categorical_accuracy: 0.9940    \n",
      " 9824/10000 [============================>.] - ETA: 0s"
     ]
    }
   ],
   "source": [
    "losses = {}\n",
    "test_set_accuracy = {}\n",
    "for key in optimizers.keys():\n",
    "    model = make_model()\n",
    "    model.compile(optimizer=optimizers[key], loss='categorical_crossentropy', metrics = ['categorical_accuracy'])\n",
    "    history = model.fit(x_train, y_train, epochs=10) #batch_size=32\n",
    "    losses[key] = history.history['loss']\n",
    "    test_set_accuracy[key] = model.evaluate(x_test, y_test)"
   ]
  },
  {
   "cell_type": "code",
   "execution_count": 15,
   "metadata": {
    "collapsed": false
   },
   "outputs": [
    {
     "data": {
      "image/png": "[encoded data removed]",
      "text/plain": [
       "<matplotlib.figure.Figure at 0x7f1afc1bc400>"
      ]
     },
     "metadata": {},
     "output_type": "display_data"
    }
   ],
   "source": [
    "plt.figure(figsize = (12,12))\n",
    "plt.plot(losses['adam'], label = 'adam', linewidth=3)\n",
    "plt.plot(losses['momentum'], label = 'momentum', linewidth=3)\n",
    "plt.plot(losses['sgd'], label = 'sgd', linewidth=3)\n",
    "plt.plot(losses['nestorov'], label = 'nestorov', linewidth=3)\n",
    "plt.plot(losses['rmsprop'], label = 'rmsprop', linewidth=3)\n",
    "plt.plot(losses['adagrad'], label = 'adagrad', linewidth=3)\n",
    "plt.ylabel('log loss', fontsize='xx-large')\n",
    "plt.xlabel('epoch', fontsize='xx-large')\n",
    "plt.legend(fontsize='xx-large');"
   ]
  },
  {
   "cell_type": "code",
   "execution_count": 39,
   "metadata": {
    "collapsed": false
   },
   "outputs": [
    {
     "data": {
      "text/html": [
       "<div>\n",
       "<style>\n",
       "    .dataframe thead tr:only-child th {\n",
       "        text-align: right;\n",
       "    }\n",
       "\n",
       "    .dataframe thead th {\n",
       "        text-align: left;\n",
       "    }\n",
       "\n",
       "    .dataframe tbody tr th {\n",
       "        vertical-align: top;\n",
       "    }\n",
       "</style>\n",
       "<table border=\"1\" class=\"dataframe\">\n",
       "  <thead>\n",
       "    <tr style=\"text-align: right;\">\n",
       "      <th></th>\n",
       "      <th>log loss</th>\n",
       "      <th>accuracy</th>\n",
       "    </tr>\n",
       "  </thead>\n",
       "  <tbody>\n",
       "    <tr>\n",
       "      <th>nestorov</th>\n",
       "      <td>0.023864</td>\n",
       "      <td>0.9928</td>\n",
       "    </tr>\n",
       "    <tr>\n",
       "      <th>rmsprop</th>\n",
       "      <td>0.031539</td>\n",
       "      <td>0.9918</td>\n",
       "    </tr>\n",
       "    <tr>\n",
       "      <th>momentum</th>\n",
       "      <td>0.028554</td>\n",
       "      <td>0.9916</td>\n",
       "    </tr>\n",
       "    <tr>\n",
       "      <th>adagrad</th>\n",
       "      <td>0.023211</td>\n",
       "      <td>0.9913</td>\n",
       "    </tr>\n",
       "    <tr>\n",
       "      <th>adam</th>\n",
       "      <td>0.031038</td>\n",
       "      <td>0.9912</td>\n",
       "    </tr>\n",
       "    <tr>\n",
       "      <th>sgd</th>\n",
       "      <td>0.038701</td>\n",
       "      <td>0.9871</td>\n",
       "    </tr>\n",
       "  </tbody>\n",
       "</table>\n",
       "</div>"
      ],
      "text/plain": [
       "          log loss  accuracy\n",
       "nestorov  0.023864    0.9928\n",
       "rmsprop   0.031539    0.9918\n",
       "momentum  0.028554    0.9916\n",
       "adagrad   0.023211    0.9913\n",
       "adam      0.031038    0.9912\n",
       "sgd       0.038701    0.9871"
      ]
     },
     "execution_count": 39,
     "metadata": {},
     "output_type": "execute_result"
    }
   ],
   "source": [
    "import pandas as pd\n",
    "df = pd.DataFrame.from_dict(test_set_accuracy, orient='index')\n",
    "df.columns = ['log loss', 'accuracy']\n",
    "df.sort_values(by='accuracy', ascending=False)"
   ]
  },
  {
   "cell_type": "code",
   "execution_count": 2,
   "metadata": {
    "collapsed": false,
    "scrolled": true
   },
   "outputs": [],
   "source": [
    "# from IPython.display import HTMLb\n",
    "# HTML('<img src=\"contours_evaluation_optimizers.gif\">')"
   ]
  },
  {
   "cell_type": "markdown",
   "metadata": {},
   "source": [
    "Źródłó: http://ruder.io/optimizing-gradient-descent/index.html#fn:15"
   ]
  },
  {
   "cell_type": "code",
   "execution_count": 1,
   "metadata": {
    "collapsed": false
   },
   "outputs": [],
   "source": [
    "# from IPython.display import HTML\n",
    "# HTML('<img src=\"saddle_point_evaluation_optimizers.gif\">')"
   ]
  },
  {
   "cell_type": "markdown",
   "metadata": {},
   "source": [
    "Źródłó: http://ruder.io/optimizing-gradient-descent/index.html#fn:15"
   ]
  }
 ],
 "metadata": {
  "kernelspec": {
   "display_name": "Python 3",
   "language": "python",
   "name": "python3"
  },
  "language_info": {
   "codemirror_mode": {
    "name": "ipython",
    "version": 3
   },
   "file_extension": ".py",
   "mimetype": "text/x-python",
   "name": "python",
   "nbconvert_exporter": "python",
   "pygments_lexer": "ipython3",
   "version": "3.6.0"
  }
 },
 "nbformat": 4,
 "nbformat_minor": 2
}
